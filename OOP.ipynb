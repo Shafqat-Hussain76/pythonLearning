{
 "cells": [
  {
   "cell_type": "code",
   "execution_count": 1,
   "metadata": {},
   "outputs": [
    {
     "data": {
      "text/plain": [
       "__main__.Students"
      ]
     },
     "execution_count": 1,
     "metadata": {},
     "output_type": "execute_result"
    }
   ],
   "source": [
    "class Students:\n",
    "    pass\n",
    "students: Students = Students()\n",
    "type(students)"
   ]
  },
  {
   "cell_type": "code",
   "execution_count": 3,
   "metadata": {},
   "outputs": [
    {
     "name": "stdout",
     "output_type": "stream",
     "text": [
      "Shafqat\n"
     ]
    }
   ],
   "source": [
    "class Students():\n",
    "    pass\n",
    "\n",
    "students: Students = Students()\n",
    "students.nam = \"Shafqat\" # We can write many things like that, better to use variable in class\n",
    "print(students.nam)\n"
   ]
  },
  {
   "cell_type": "code",
   "execution_count": 7,
   "metadata": {},
   "outputs": [
    {
     "name": "stdout",
     "output_type": "stream",
     "text": [
      "This function will be called while creating Objects\n",
      "This function will be called while creating Objects\n",
      "Shafqat\n",
      "Shafqat\n",
      "90\n"
     ]
    }
   ],
   "source": [
    "# def __init__(self) is constructor in python\n",
    "\n",
    "class Students:\n",
    "    def __init__(self, name) -> None: # space after def //constructor will be called after creating every object// write anything expect self\n",
    "        print(\"This function will be called while creating Objects\")\n",
    "        self.name = name\n",
    "        self.age = 90  # default value\n",
    "\n",
    "student: Students= Students(\"Shafqat\")\n",
    "student1: Students= Students(\"Shafqat\")\n",
    "\n",
    "print(student.name)\n",
    "print(student1.name)\n",
    "print(student1.age)"
   ]
  },
  {
   "cell_type": "code",
   "execution_count": 1,
   "metadata": {},
   "outputs": [
    {
     "name": "stdout",
     "output_type": "stream",
     "text": [
      "Hi\n",
      "None\n"
     ]
    }
   ],
   "source": [
    "#How to add methods\n",
    "\n",
    "class Students:\n",
    "    def __init__(self, name) -> None:\n",
    "        self.name = name\n",
    "    def display(self) -> None: # self key word is necessary\n",
    "        print(\"Hi\")\n",
    "student: Students = Students(\"Shafqat\")\n",
    "print(student.display()) # Why None in output after Hi, because unction is returning nothing\n"
   ]
  },
  {
   "cell_type": "code",
   "execution_count": 15,
   "metadata": {},
   "outputs": [
    {
     "name": "stdout",
     "output_type": "stream",
     "text": [
      "Hi, your rating 1\n",
      "Hi, your rating 2\n",
      "Hi, your rating 1\n"
     ]
    }
   ],
   "source": [
    "#How to add methods\n",
    "\n",
    "class Students:\n",
    "    def __init__(self, name) -> None:\n",
    "        self.name = name\n",
    "        self.rate = 0\n",
    "    def display(self) -> None: # self key word is necessary\n",
    "        self.rate += 1\n",
    "        print(f\"Hi, your rating {self.rate}\")\n",
    "student: Students = Students(\"Shafqat\")\n",
    "student.display() # Why None in output after Hi, because unction is returning nothing, Now print is not used and none disappear\n",
    "student.display() #  See output\n",
    "student1: Students = Students(\"Shafqat\")\n",
    "student1.display()"
   ]
  },
  {
   "cell_type": "code",
   "execution_count": 4,
   "metadata": {},
   "outputs": [
    {
     "name": "stdout",
     "output_type": "stream",
     "text": [
      "False\n",
      "True\n"
     ]
    },
    {
     "data": {
      "text/plain": [
       "['__annotations__',\n",
       " '__builtins__',\n",
       " '__call__',\n",
       " '__class__',\n",
       " '__closure__',\n",
       " '__code__',\n",
       " '__defaults__',\n",
       " '__delattr__',\n",
       " '__dict__',\n",
       " '__dir__',\n",
       " '__doc__',\n",
       " '__eq__',\n",
       " '__format__',\n",
       " '__ge__',\n",
       " '__get__',\n",
       " '__getattribute__',\n",
       " '__getstate__',\n",
       " '__globals__',\n",
       " '__gt__',\n",
       " '__hash__',\n",
       " '__init__',\n",
       " '__init_subclass__',\n",
       " '__kwdefaults__',\n",
       " '__le__',\n",
       " '__lt__',\n",
       " '__module__',\n",
       " '__name__',\n",
       " '__ne__',\n",
       " '__new__',\n",
       " '__qualname__',\n",
       " '__reduce__',\n",
       " '__reduce_ex__',\n",
       " '__repr__',\n",
       " '__setattr__',\n",
       " '__sizeof__',\n",
       " '__str__',\n",
       " '__subclasshook__',\n",
       " '__type_params__']"
      ]
     },
     "execution_count": 4,
     "metadata": {},
     "output_type": "execute_result"
    }
   ],
   "source": [
    "#CALLABLE \n",
    "x:int = 10\n",
    "\n",
    "def add(x:int, y:int) ->  int:\n",
    "    return x+y\n",
    "\n",
    "print(callable(x)) # no method __call__ is defined, check with dir(x)\n",
    "print(callable(add))# methid is defined so it is callable,,checkwith dir(add)\n",
    "#dir(x)\n",
    "dir(add)"
   ]
  },
  {
   "cell_type": "code",
   "execution_count": 12,
   "metadata": {},
   "outputs": [
    {
     "name": "stdout",
     "output_type": "stream",
     "text": [
      "True\n",
      "False\n",
      "True\n",
      "True\n",
      "9\n"
     ]
    }
   ],
   "source": [
    "class LearnCallable(object):\n",
    "    def sum(self) -> None:\n",
    "        print(\"Hello\")\n",
    "\n",
    "learn: LearnCallable = LearnCallable()\n",
    "\n",
    "# Now check class and object are callable?\n",
    "\n",
    "print(callable(LearnCallable)) # True\n",
    "print(callable(learn)) # False means no __call_-- method  Class is callable and object of that class is not callable\n",
    "\n",
    "# How to make object callable, simple define __call__ in the class\n",
    "\n",
    "class LearnCallable1(object):\n",
    "    def sum(self) -> None:\n",
    "        print(\"Hello\")\n",
    "    def __call__(self, x: int) -> int:\n",
    "        return x\n",
    "\n",
    "learn1: LearnCallable1 = LearnCallable1()\n",
    "\n",
    "print(callable(LearnCallable)) # True\n",
    "print(callable(learn1)) # True\n",
    "\n",
    "#How to call\n",
    "print(learn1(9))\n"
   ]
  }
 ],
 "metadata": {
  "kernelspec": {
   "display_name": "python12",
   "language": "python",
   "name": "python3"
  },
  "language_info": {
   "codemirror_mode": {
    "name": "ipython",
    "version": 3
   },
   "file_extension": ".py",
   "mimetype": "text/x-python",
   "name": "python",
   "nbconvert_exporter": "python",
   "pygments_lexer": "ipython3",
   "version": "3.12.0"
  }
 },
 "nbformat": 4,
 "nbformat_minor": 2
}

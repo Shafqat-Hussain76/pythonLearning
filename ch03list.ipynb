{
 "cells": [
  {
   "cell_type": "code",
   "execution_count": 2,
   "metadata": {},
   "outputs": [
    {
     "name": "stdout",
     "output_type": "stream",
     "text": [
      "My Name is True\n"
     ]
    }
   ],
   "source": [
    "from typing import Any\n",
    "\n",
    "name: list[Any] = [\"Qasim\", 0 ,True, False]\n",
    "print(f'My Name is {name[-2]}')"
   ]
  },
  {
   "cell_type": "code",
   "execution_count": 5,
   "metadata": {},
   "outputs": [
    {
     "name": "stdout",
     "output_type": "stream",
     "text": [
      "<class 'list'>\n",
      "<class 'bool'>\n"
     ]
    }
   ],
   "source": [
    "print(type(name))\n",
    "print(type(name[-2]))"
   ]
  },
  {
   "cell_type": "code",
   "execution_count": 29,
   "metadata": {},
   "outputs": [
    {
     "name": "stdout",
     "output_type": "stream",
     "text": [
      "list['ABCDEFGHIGKLMNOP']\n",
      "['A', 'B', 'C', 'D', 'E']\n"
     ]
    }
   ],
   "source": [
    "# Slicing Range (strat: int, end: int , step: int)\n",
    "characers : list[str] = [\"A\", \"B\", \"C\", \"D\", \"E\", \"F\"]\n",
    "S : str = \"ABCDEFGHIGKLMNOP\"\n",
    "HH : list[str] = list[S]\n",
    "print(HH)\n",
    "\n",
    "slc : str = characers[:-1]\n",
    "print(slc)\n",
    "\n"
   ]
  },
  {
   "cell_type": "code",
   "execution_count": 4,
   "metadata": {},
   "outputs": [
    {
     "name": "stdout",
     "output_type": "stream",
     "text": [
      "1 Hello\n",
      "3 Hello\n",
      "6 Hello\n"
     ]
    }
   ],
   "source": [
    "# Class 05 names :list[str] = [\"1\", \"3\", \"6\"]\n",
    "for name in names:\n",
    "    print(name +\" Hello\")\n"
   ]
  },
  {
   "cell_type": "code",
   "execution_count": 10,
   "metadata": {},
   "outputs": [],
   "source": [
    "a : list[int] = list(range(1,12))\n",
    "\n",
    "for i in a:\n",
    "    break\n",
    "    print(i)\n",
    "    \n"
   ]
  },
  {
   "cell_type": "code",
   "execution_count": 13,
   "metadata": {},
   "outputs": [
    {
     "name": "stdout",
     "output_type": "stream",
     "text": [
      "Shafqat HUssain\n"
     ]
    }
   ],
   "source": [
    "def PIAIC() -> None:\n",
    "    print(\"Shafqat HUssain\")\n",
    "\n",
    "PIAIC()"
   ]
  },
  {
   "cell_type": "code",
   "execution_count": 14,
   "metadata": {},
   "outputs": [
    {
     "data": {
      "text/plain": [
       "6"
      ]
     },
     "execution_count": 14,
     "metadata": {},
     "output_type": "execute_result"
    }
   ],
   "source": [
    "a = lambda x:x*2\n",
    "a(3)"
   ]
  },
  {
   "cell_type": "code",
   "execution_count": 24,
   "metadata": {},
   "outputs": [
    {
     "data": {
      "text/plain": [
       "([1, 2, 3, 4, 5, 6, 7, 8, 9], [2, 4, 6, 8])"
      ]
     },
     "execution_count": 24,
     "metadata": {},
     "output_type": "execute_result"
    }
   ],
   "source": [
    "a : list[int] = list(range(1,10))\n",
    "a\n",
    "list(map(lambda x:x * 3, a))\n",
    "b = list(filter(lambda x : x % 2 == 0,a))\n",
    "a,b"
   ]
  },
  {
   "cell_type": "code",
   "execution_count": 25,
   "metadata": {},
   "outputs": [
    {
     "data": {
      "text/plain": [
       "17"
      ]
     },
     "execution_count": 25,
     "metadata": {},
     "output_type": "execute_result"
    }
   ],
   "source": [
    "from typing import Callable\n",
    "\n",
    "add : Callable[[int, int] ,int] =lambda x , y :x +y\n",
    "add(8,9)"
   ]
  },
  {
   "cell_type": "code",
   "execution_count": 9,
   "metadata": {},
   "outputs": [
    {
     "name": "stdout",
     "output_type": "stream",
     "text": [
      "1\n",
      "2\n",
      "3\n",
      "4\n",
      "5\n",
      "6\n",
      "7\n",
      "8\n",
      "9\n"
     ]
    }
   ],
   "source": [
    "from collections.abc import Iterator\n",
    "\n",
    "def func_range(start: int, end: int, step: int = 1) -> Iterator[int] :\n",
    "    for i in range(start, end, step ):\n",
    "        yield i\n",
    "\n",
    "a : Iterator[int] = func_range(1,10)\n",
    "\n",
    "print(next(a))\n",
    "print(next(a))\n",
    "for i in a:\n",
    "    print(i)"
   ]
  },
  {
   "cell_type": "code",
   "execution_count": 20,
   "metadata": {},
   "outputs": [
    {
     "name": "stdout",
     "output_type": "stream",
     "text": [
      "16\n"
     ]
    }
   ],
   "source": [
    "def addning_number(*nums):\n",
    "    sum = 0\n",
    "    for i in nums:\n",
    "        sum += i\n",
    "    return sum\n",
    "\n",
    "print(addning_number(1,3,4,4,4))"
   ]
  },
  {
   "cell_type": "code",
   "execution_count": 27,
   "metadata": {},
   "outputs": [
    {
     "name": "stdout",
     "output_type": "stream",
     "text": [
      "1\n",
      "Shafqat Hussain is student of kiop and his ID is 1\n",
      "None\n"
     ]
    }
   ],
   "source": [
    "class Students:\n",
    "    def __init__(self, stud_id: int, stud_name: str) -> None:\n",
    "        self.stud_id = stud_id\n",
    "        self.stud_name = stud_name\n",
    "        self.uni = \"PIAIC\"\n",
    "\n",
    "    def teacher(self, tech_name: str) -> None:\n",
    "        print(f\"{self.stud_name} is student of {tech_name} and his ID is {self.stud_id}\")\n",
    "\n",
    "Obj1: Students = Students(1, \"Shafqat Hussain\")\n",
    "print(Obj1.stud_id)\n",
    "print(Obj1.teacher(\"kiop\"))\n",
    "\n"
   ]
  },
  {
   "cell_type": "code",
   "execution_count": 18,
   "metadata": {},
   "outputs": [],
   "source": [
    "class Country():\n",
    "    pri_name: str = \"Arif Alvi\"\n",
    "    def __init__(self, name: str, prov: int) -> None:\n",
    "        self.name = name\n",
    "        self.prov = prov\n",
    "    def info(self) -> None:\n",
    "        print(f\"my country Name is {self.name} and has {self.prov} provinces and president is {self.pri_name}\")\n",
    "        \n",
    "    \n",
    "class Provice(Country):\n",
    "    def __init__(self) -> None:\n",
    "        super().__init__(\"Shafqat\",3)\n",
    "\n",
    "Obj1: Provice = Country(\"new\", 10)\n"
   ]
  },
  {
   "cell_type": "code",
   "execution_count": 53,
   "metadata": {},
   "outputs": [
    {
     "name": "stdout",
     "output_type": "stream",
     "text": [
      "SAPAL-2\n"
     ]
    }
   ],
   "source": [
    "class Father:\n",
    "    def __init__(self, cast: str) -> None:\n",
    "        self.cost = cast\n",
    "class Mother:\n",
    "    def __init__(self, cast : str) -> None:\n",
    "        self.cast = cast\n",
    "class Inlaw:\n",
    "    def __init__(self, cast) -> None:\n",
    "        self.cast = cast\n",
    "\n",
    "class Child(Father,Mother, Inlaw):\n",
    "    def __init__(self) -> None:\n",
    "        Father.__init__(self, \"SAPAL\")\n",
    "        Mother.__init__(self, \"SAYYAL\")\n",
    "        Inlaw.__init__(self, \"Malik\")\n",
    "        Father.__init__(self, \"SAPAL-2\")\n",
    "        \n",
    "Obj :Child = Child()\n",
    "print(Obj.cost)\n",
    "        "
   ]
  },
  {
   "cell_type": "code",
   "execution_count": 54,
   "metadata": {},
   "outputs": [
    {
     "name": "stdout",
     "output_type": "stream",
     "text": [
      "True\n"
     ]
    }
   ],
   "source": [
    "a : str = \"kip\"\n",
    "print(isinstance(a, str))"
   ]
  },
  {
   "cell_type": "code",
   "execution_count": 8,
   "metadata": {},
   "outputs": [
    {
     "data": {
      "text/plain": [
       "'Shafqat Hussain'"
      ]
     },
     "execution_count": 8,
     "metadata": {},
     "output_type": "execute_result"
    }
   ],
   "source": [
    "from typing import overload, Union\n",
    "\n",
    "@overload\n",
    "def sum(x, y) -> int:\n",
    "    ...\n",
    "@overload\n",
    "def sun(x,y) -> float:\n",
    "    ...\n",
    "@overload\n",
    "def sum() -> str:\n",
    "    ...\n",
    "\n",
    "def sum(a : Union[int, float, str], b:Union[int, float, str]) -> Union[str, float,int]:\n",
    "    if isinstance(a, int) and isinstance(b, int):\n",
    "        return a + b\n",
    "    elif isinstance(a, float) and isinstance(b, float):\n",
    "        return a + b\n",
    "    elif isinstance(a, str) and isinstance(b, str):\n",
    "        return(a + b)\n",
    "    else:\n",
    "        print(\"No input Values\")\n",
    "\n",
    "sum(\"Shafqat\", \" Hussain\")\n",
    "    "
   ]
  },
  {
   "cell_type": "code",
   "execution_count": 1,
   "metadata": {},
   "outputs": [
    {
     "name": "stdout",
     "output_type": "stream",
     "text": [
      "this is Father I\n"
     ]
    }
   ],
   "source": [
    "class Father():\n",
    "    def Info(self,a: str) -> None:\n",
    "        print(f\"this is Father {a}\")\n",
    "\n",
    "class Child(Father):\n",
    "    def Info(self, b: str) -> None:\n",
    "        print(f\"THis is Child {b}\")\n",
    "\n",
    "Obj1 = Father()\n",
    "Obj1.Info(\"I\")\n"
   ]
  },
  {
   "cell_type": "code",
   "execution_count": 6,
   "metadata": {},
   "outputs": [
    {
     "data": {
      "text/plain": [
       "6"
      ]
     },
     "execution_count": 6,
     "metadata": {},
     "output_type": "execute_result"
    }
   ],
   "source": [
    "from typing import Any\n",
    "\n",
    "\n",
    "class CALL:\n",
    "    def __init__(self,) -> None:\n",
    "        self.cache = {0:0, 1:1}\n",
    "\n",
    "    def __call__(self, number) -> int:\n",
    "        if number not in self.cache:\n",
    "            self.cache[number] = number * self(number-1)\n",
    "        return self.cache[number]\n",
    "    \n",
    "obj1: CALL = CALL()\n",
    "obj1(3)"
   ]
  }
 ],
 "metadata": {
  "kernelspec": {
   "display_name": "python12",
   "language": "python",
   "name": "python3"
  },
  "language_info": {
   "codemirror_mode": {
    "name": "ipython",
    "version": 3
   },
   "file_extension": ".py",
   "mimetype": "text/x-python",
   "name": "python",
   "nbconvert_exporter": "python",
   "pygments_lexer": "ipython3",
   "version": "3.12.0"
  }
 },
 "nbformat": 4,
 "nbformat_minor": 2
}
